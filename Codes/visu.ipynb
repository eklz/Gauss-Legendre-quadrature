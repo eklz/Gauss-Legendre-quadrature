{
 "metadata": {
  "language_info": {
   "codemirror_mode": {
    "name": "ipython",
    "version": 3
   },
   "file_extension": ".py",
   "mimetype": "text/x-python",
   "name": "python",
   "nbconvert_exporter": "python",
   "pygments_lexer": "ipython3",
   "version": "3.8.5"
  },
  "orig_nbformat": 2,
  "kernelspec": {
   "name": "python385jvsc74a57bd0fbf3989cb55b95f1cc7a85aa43582f6475f4989a29c5783da70e8111a978e113",
   "display_name": "Python 3.8.5 64-bit ('base': conda)"
  }
 },
 "nbformat": 4,
 "nbformat_minor": 2,
 "cells": [
  {
   "cell_type": "code",
   "execution_count": 4,
   "metadata": {},
   "outputs": [
    {
     "output_type": "stream",
     "name": "stdout",
     "text": [
      "The autoreload extension is already loaded. To reload it, use:\n  %reload_ext autoreload\n"
     ]
    }
   ],
   "source": [
    "%load_ext autoreload\n",
    "%autoreload 2"
   ]
  },
  {
   "cell_type": "code",
   "execution_count": 83,
   "metadata": {},
   "outputs": [],
   "source": [
    "from Legendre import *\n",
    "from Library import * \n",
    "from ipywidgets import interact"
   ]
  },
  {
   "cell_type": "code",
   "execution_count": 3,
   "metadata": {},
   "outputs": [
    {
     "output_type": "stream",
     "name": "stdout",
     "text": [
      "Applying filter : \n",
      "100%|██████████| 714/714 [00:00<00:00, 740.05it/s]\n"
     ]
    }
   ],
   "source": [
    "data = Cn2.read_csv('/scratchm/eklotz/Cn2_Tenerife_2020_fromSoundings.csv')\n",
    "data.rm_zeros()\n",
    "data.set_ground_level(inplace = True)\n",
    "data.filtre(50)"
   ]
  },
  {
   "cell_type": "code",
   "execution_count": 92,
   "metadata": {},
   "outputs": [],
   "source": [
    "def pp(date, nbsegments, nbpoints_per_segment):\n",
    "    r0 = lambda x, t : np.power((0.423*(2*np.pi/1.55e-6)**2*simps(x, t)), (-3/5))\n",
    "    theta0 = lambda x, t : np.power((2.914*(2*np.pi/1.55e-6)**2 * simps(x*np.power(t, (5/3)), t)), (-3/5))*1e6\n",
    "    alt = data[date].alt.values\n",
    "    cn2 = data[date].Cn2.values\n",
    "    plt.figure(figsize=(10,10))\n",
    "    print(f'Integrale du profil brut : {simps(cn2, alt)}')\n",
    "    print(f'r0 du profil brut : {r0(cn2, alt):.4f} cm ')\n",
    "    print(f'theta0 du profil brut : {theta0(cn2, alt):.4f} µrad ')\n",
    "\n",
    "    plt.semilogx(cn2, alt, label = 'Raw Cn2 profile')\n",
    "    if nbsegments >1:\n",
    "        alt = np.array_split(alt, nbsegments)\n",
    "        cn2 = np.array_split(cn2, nbsegments)\n",
    "        roots, res = interp_gauss_legendre_pp(nbpoints_per_segment, alt, cn2)\n",
    "        for k in alt:\n",
    "            plt.axhline(k[0], linestyle='--', color = 'grey', linewidth = 0.5)\n",
    "    else : \n",
    "        roots, res = interp_gauss_legendre(nbpoints_per_segment, alt, cn2, norm=True)\n",
    "\n",
    "    plt.semilogx(res, roots, label = 'Interpolated Cn2 profile')\n",
    "    print(f'Integrale du profil interpolé : {simps(res, roots)}')\n",
    "    print(f'r0 du profil interpolé : {r0(res, roots):.4f} cm')\n",
    "    print(f'theta0 du profil brut : {theta0(res, roots):.4f} µrad ')\n",
    "    plt.xlabel('Cn2')\n",
    "    plt.ylabel('Alt (m)')\n",
    "    plt.autoscale(tight=True)\n",
    "    plt.legend()\n"
   ]
  },
  {
   "source": [
    "interact(pp, date = data.dates, nbsegments = 10, nbpoints_per_segment = 10)"
   ],
   "cell_type": "code",
   "metadata": {
    "tags": []
   },
   "execution_count": 93,
   "outputs": [
    {
     "output_type": "display_data",
     "data": {
      "text/plain": "interactive(children=(Dropdown(description='date', options=('2020-01-01 11:00:00', '2020-01-01 23:00:00', '202…",
      "application/vnd.jupyter.widget-view+json": {
       "version_major": 2,
       "version_minor": 0,
       "model_id": "e4428642ac574c18b06e4942ef403253"
      }
     },
     "metadata": {}
    },
    {
     "output_type": "execute_result",
     "data": {
      "text/plain": [
       "<function __main__.pp(date, nbsegments, nbpoints_per_segment)>"
      ]
     },
     "metadata": {},
     "execution_count": 93
    }
   ]
  },
  {
   "cell_type": "code",
   "execution_count": 95,
   "metadata": {},
   "outputs": [
    {
     "output_type": "execute_result",
     "data": {
      "text/plain": [
       "               r0      seeing      theta0        tau0\n",
       "count  714.000000  714.000000  714.000000  714.000000\n",
       "mean     0.108189    0.000016    7.654886    0.003829\n",
       "std      0.038604    0.000007   17.712119    0.001894\n",
       "min      0.016778    0.000003    3.952443    0.000670\n",
       "25%      0.082525    0.000012    6.012445    0.002553\n",
       "50%      0.106844    0.000014    6.674322    0.003394\n",
       "75%      0.129761    0.000018    7.404670    0.004652\n",
       "max      0.522519    0.000091  470.129160    0.022089"
      ],
      "text/html": "<div>\n<style scoped>\n    .dataframe tbody tr th:only-of-type {\n        vertical-align: middle;\n    }\n\n    .dataframe tbody tr th {\n        vertical-align: top;\n    }\n\n    .dataframe thead th {\n        text-align: right;\n    }\n</style>\n<table border=\"1\" class=\"dataframe\">\n  <thead>\n    <tr style=\"text-align: right;\">\n      <th></th>\n      <th>r0</th>\n      <th>seeing</th>\n      <th>theta0</th>\n      <th>tau0</th>\n    </tr>\n  </thead>\n  <tbody>\n    <tr>\n      <th>count</th>\n      <td>714.000000</td>\n      <td>714.000000</td>\n      <td>714.000000</td>\n      <td>714.000000</td>\n    </tr>\n    <tr>\n      <th>mean</th>\n      <td>0.108189</td>\n      <td>0.000016</td>\n      <td>7.654886</td>\n      <td>0.003829</td>\n    </tr>\n    <tr>\n      <th>std</th>\n      <td>0.038604</td>\n      <td>0.000007</td>\n      <td>17.712119</td>\n      <td>0.001894</td>\n    </tr>\n    <tr>\n      <th>min</th>\n      <td>0.016778</td>\n      <td>0.000003</td>\n      <td>3.952443</td>\n      <td>0.000670</td>\n    </tr>\n    <tr>\n      <th>25%</th>\n      <td>0.082525</td>\n      <td>0.000012</td>\n      <td>6.012445</td>\n      <td>0.002553</td>\n    </tr>\n    <tr>\n      <th>50%</th>\n      <td>0.106844</td>\n      <td>0.000014</td>\n      <td>6.674322</td>\n      <td>0.003394</td>\n    </tr>\n    <tr>\n      <th>75%</th>\n      <td>0.129761</td>\n      <td>0.000018</td>\n      <td>7.404670</td>\n      <td>0.004652</td>\n    </tr>\n    <tr>\n      <th>max</th>\n      <td>0.522519</td>\n      <td>0.000091</td>\n      <td>470.129160</td>\n      <td>0.022089</td>\n    </tr>\n  </tbody>\n</table>\n</div>"
     },
     "metadata": {},
     "execution_count": 95
    }
   ],
   "source": [
    "data.moments().describe()"
   ]
  },
  {
   "cell_type": "code",
   "execution_count": null,
   "metadata": {},
   "outputs": [],
   "source": []
  }
 ]
}