{
 "metadata": {
  "language_info": {
   "codemirror_mode": {
    "name": "ipython",
    "version": 3
   },
   "file_extension": ".py",
   "mimetype": "text/x-python",
   "name": "python",
   "nbconvert_exporter": "python",
   "pygments_lexer": "ipython3",
   "version": "3.8.5"
  },
  "orig_nbformat": 2,
  "kernelspec": {
   "name": "python385jvsc74a57bd0fbf3989cb55b95f1cc7a85aa43582f6475f4989a29c5783da70e8111a978e113",
   "display_name": "Python 3.8.5 64-bit ('base': conda)"
  }
 },
 "nbformat": 4,
 "nbformat_minor": 2,
 "cells": [
  {
   "cell_type": "code",
   "execution_count": 1,
   "metadata": {},
   "outputs": [],
   "source": [
    "%load_ext autoreload\n",
    "%autoreload 2"
   ]
  },
  {
   "cell_type": "code",
   "execution_count": 2,
   "metadata": {},
   "outputs": [],
   "source": [
    "from Legendre import *\n",
    "from CACTUS import * \n",
    "from ipywidgets import interact\n",
    "import scipy.interpolate as interp"
   ]
  },
  {
   "cell_type": "code",
   "execution_count": 3,
   "metadata": {},
   "outputs": [
    {
     "output_type": "stream",
     "name": "stderr",
     "text": [
      "100%|██████████| 4/4 [00:00<00:00, 447.29it/s]Applying filter : \n",
      "\n"
     ]
    }
   ],
   "source": [
    "data = Cn2.read_csv('Cn2_Tenerife.csv')\n",
    "data.rm_zeros()\n",
    "data.set_ground_level(inplace = True)\n",
    "data.filtre(50)"
   ]
  },
  {
   "cell_type": "code",
   "execution_count": 18,
   "metadata": {},
   "outputs": [],
   "source": [
    "def pp(date, nbsegments, nbpoints_per_segment):\n",
    "    r0 = lambda x, t : np.power((0.423*(2*np.pi/1.55e-6)**2*simps(x, t)), (-3/5))\n",
    "    theta0 = lambda x, t : np.power((2.914*(2*np.pi/1.55e-6)**2 * simps(x*np.power(t, (5/3)), t)), (-3/5))*1e6\n",
    "    tau0 = lambda Cn2, wspeed, t : np.power((2.914*(2*np.pi/1.55e-6)**2 *\n",
    "                                simps(Cn2*np.power(wspeed, (5/3)), t)), (-3/5))\n",
    "\n",
    "    alt = data[date].alt.values\n",
    "    cn2 = data[date].Cn2.values\n",
    "    wspeed = data[date].wspeed.values\n",
    "\n",
    "\n",
    "    plt.figure(figsize=(20,10))\n",
    "\n",
    "    plt.subplot(121)\n",
    "    print(f'Integrale du profil brut : {simps(cn2, alt)}')\n",
    "    print(f'r0 du profil brut : {r0(cn2, alt):.4f} cm ')\n",
    "    print(f'theta0 du profil brut : {theta0(cn2, alt):.4f} µrad ')\n",
    "    print('\\n')\n",
    "   \n",
    "    plt.semilogx(cn2, alt, label = 'Raw Cn2 profile')\n",
    "   \n",
    "   \n",
    "    g = interp.interp1d(alt, cn2)\n",
    "    new_z = np.linspace(alt[0], alt[-1], nbpoints_per_segment*nbsegments)\n",
    "    plt.semilogx(g(new_z), new_z, label = 'Interpolated Cn2 profile')\n",
    "    print(f'Integrale du profil interpolé : {simps(g(new_z), new_z)}')\n",
    "    print(f'r0 du profil interpolé : {r0(g(new_z), new_z):.4f} cm')\n",
    "    print(f'theta0 du profil interpolé : {theta0(g(new_z), new_z):.4f} µrad ')\n",
    "    print('\\n')\n",
    "    plt.xlabel('Cn2')\n",
    "    plt.ylabel('Alt (m)')\n",
    "    plt.autoscale(tight=True)\n",
    "    plt.legend()\n",
    "   \n",
    "   \n",
    "   \n",
    "   \n",
    "    if nbsegments >1:\n",
    "        split_alt = np.array_split(alt, nbsegments)\n",
    "        split_cn2 = np.array_split(cn2, nbsegments)\n",
    "        roots, res = interp_gauss_legendre_pp(nbpoints_per_segment, split_alt, split_cn2)\n",
    "        for k in split_alt:\n",
    "            plt.axhline(k[0], linestyle='--', color = 'grey', linewidth = 0.5)\n",
    "    else : \n",
    "        roots, res = interp_gauss_legendre(nbpoints_per_segment, alt, cn2, norm=True)\n",
    "\n",
    "    plt.semilogx(res, roots, label = 'Legendre Cn2 profile')\n",
    "    print(f'Integrale du profil Legendre : {simps(res, roots)}')\n",
    "    print(f'r0 du profil Legendre : {r0(res, roots):.4f} cm')\n",
    "    print(f'theta0 du profil Legendre : {theta0(res, roots):.4f} µrad ')\n",
    "    print('\\n')\n",
    "    plt.xlabel('Cn2')\n",
    "    plt.ylabel('Alt (m)')\n",
    "    plt.autoscale(tight=True)\n",
    "    plt.legend()\n",
    "\n",
    "\n",
    "\n",
    "    plt.subplot(122)\n",
    "    print(f'temps de cohérence du profil brut : {tau0(cn2, wspeed , alt):.4f} sec ')\n",
    "    plt.plot(wspeed, alt, label = 'Wind Speed')\n",
    "    f = interp.interp1d(alt, wspeed)\n",
    "    plt.plot(f(roots), roots, 'ro--', label = 'Interpolated Wind Speed')\n",
    "    print(f'temps de cohérence du profil interpolé : {tau0(res, f(new_z), new_z):.4f} sec ')\n",
    "    print(f'temps de cohérence du profil Legendre : {tau0(res, f(roots), roots):.4f} sec ')\n",
    "    plt.xlabel('Win Speed (m.s^-1')\n",
    "    plt.ylabel('Alt (m)')\n",
    "    plt.autoscale(tight=True)\n",
    "    plt.legend()"
   ]
  },
  {
   "source": [
    "interact(pp, date = data.dates, nbsegments = 10, nbpoints_per_segment = 10)"
   ],
   "cell_type": "code",
   "metadata": {
    "tags": []
   },
   "execution_count": 19,
   "outputs": [
    {
     "output_type": "display_data",
     "data": {
      "text/plain": "interactive(children=(Dropdown(description='date', options=('2020-01-01 23:00:00', '2020-01-02 11:00:00', '202…",
      "application/vnd.jupyter.widget-view+json": {
       "version_major": 2,
       "version_minor": 0,
       "model_id": "c25f0a2fa7554e9a9ac4ba090ebe8ec5"
      }
     },
     "metadata": {}
    },
    {
     "output_type": "execute_result",
     "data": {
      "text/plain": [
       "<function __main__.pp(date, nbsegments, nbpoints_per_segment)>"
      ]
     },
     "metadata": {},
     "execution_count": 19
    }
   ]
  },
  {
   "cell_type": "code",
   "execution_count": 14,
   "metadata": {},
   "outputs": [],
   "source": [
    "\n",
    "    alt = data[date].alt.values\n",
    "    cn2 = data[date].Cn2.values"
   ]
  },
  {
   "cell_type": "code",
   "execution_count": 16,
   "metadata": {},
   "outputs": [
    {
     "output_type": "execute_result",
     "data": {
      "text/plain": [
       "5514"
      ]
     },
     "metadata": {},
     "execution_count": 16
    }
   ],
   "source": [
    "len(alt)"
   ]
  },
  {
   "cell_type": "code",
   "execution_count": null,
   "metadata": {},
   "outputs": [],
   "source": []
  }
 ]
}