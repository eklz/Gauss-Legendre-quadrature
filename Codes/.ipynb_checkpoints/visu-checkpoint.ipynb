{
 "metadata": {
  "language_info": {
   "codemirror_mode": {
    "name": "ipython",
    "version": 3
   },
   "file_extension": ".py",
   "mimetype": "text/x-python",
   "name": "python",
   "nbconvert_exporter": "python",
   "pygments_lexer": "ipython3",
   "version": "3.8.8"
  },
  "orig_nbformat": 2,
  "kernelspec": {
   "name": "python3",
   "display_name": "Python 3.8.8 64-bit (conda)"
  },
  "interpreter": {
   "hash": "ae598917f96f94375cfa39ef50efd67317794df097ba528d0a51693bb4bafb84"
  }
 },
 "nbformat": 4,
 "nbformat_minor": 2,
 "cells": [
  {
   "cell_type": "code",
   "execution_count": 7,
   "metadata": {},
   "outputs": [
    {
     "output_type": "stream",
     "name": "stdout",
     "text": [
      "The autoreload extension is already loaded. To reload it, use:\n  %reload_ext autoreload\n"
     ]
    }
   ],
   "source": [
    "%load_ext autoreload\n",
    "%autoreload 2"
   ]
  },
  {
   "cell_type": "code",
   "execution_count": 8,
   "metadata": {},
   "outputs": [],
   "source": [
    "from Legendre import *\n",
    "from CACTUS import * \n",
    "from ipywidgets import interact\n",
    "import scipy.interpolate as interp\n",
    "from scipy.integrate import simps"
   ]
  },
  {
   "cell_type": "code",
   "execution_count": 9,
   "metadata": {},
   "outputs": [
    {
     "output_type": "stream",
     "name": "stderr",
     "text": [
      "100%|██████████| 4/4 [00:00<00:00, 518.73it/s]Applying filter : \n",
      "\n"
     ]
    }
   ],
   "source": [
    "data = Cn2.read_csv('/scratchm/eklotz/Cn2_Tenerife.csv')\n",
    "data.rm_zeros()\n",
    "data.set_ground_level(inplace = True)\n",
    "data.filtre(50)"
   ]
  },
  {
   "cell_type": "code",
   "execution_count": 21,
   "metadata": {},
   "outputs": [],
   "source": [
    "def int(x,t):\n",
    "    x = np.array(x)\n",
    "    t = np.array(t)\n",
    "    dt = t[1:]-t[:-1]\n",
    "    return np.sum(x[:-1]*dt)"
   ]
  },
  {
   "cell_type": "code",
   "execution_count": 22,
   "metadata": {},
   "outputs": [],
   "source": [
    "def pp(date, nbsegments, nbpoints_per_segment):\n",
    "    r0 = lambda x, t : np.power((0.423*(2*np.pi/1.55e-6)**2*int(x, t)), (-3/5))\n",
    "    theta0 = lambda x, t : np.power((2.914*(2*np.pi/1.55e-6)**2 * int(x*np.power(t, (5/3)), t)), (-3/5))*1e6\n",
    "    tau0 = lambda Cn2, wspeed, t : np.power((2.914*(2*np.pi/1.55e-6)**2 *\n",
    "                                int(Cn2*np.power(wspeed, (5/3)), t)), (-3/5))\n",
    "\n",
    "    alt = data[date].alt.values\n",
    "    cn2 = data[date].Cn2.values\n",
    "    wspeed = data[date].wspeed.values\n",
    "\n",
    "\n",
    "    plt.figure(figsize=(20,10))\n",
    "\n",
    "    plt.subplot(121)\n",
    "    print(f'Integrale du profil brut : {int(cn2, alt)}')\n",
    "    print(f'r0 du profil brut : {r0(cn2, alt):.4f} cm ')\n",
    "    print(f'theta0 du profil brut : {theta0(cn2, alt):.4f} µrad ')\n",
    "    print('\\n')\n",
    "   \n",
    "    plt.semilogx(cn2, alt, label = 'Raw Cn2 profile')\n",
    "   \n",
    "   \n",
    "    g = interp.interp1d(alt, cn2)\n",
    "    new_z = np.linspace(alt[0], alt[-1], nbpoints_per_segment*nbsegments)\n",
    "    plt.semilogx(g(new_z), new_z, label = 'Interpolated Cn2 profile')\n",
    "    print(f'Integrale du profil interpolé : {int(g(new_z), new_z)}')\n",
    "    print(f'r0 du profil interpolé : {r0(g(new_z), new_z):.4f} cm')\n",
    "    print(f'theta0 du profil interpolé : {theta0(g(new_z), new_z):.4f} µrad ')\n",
    "    print('\\n')\n",
    "    plt.xlabel('Cn2')\n",
    "    plt.ylabel('Alt (m)')\n",
    "    plt.autoscale(tight=True)\n",
    "    plt.legend()\n",
    "   \n",
    "   \n",
    "   \n",
    "   \n",
    "    if nbsegments >1:\n",
    "        split_alt = np.array_split(alt, nbsegments)\n",
    "        split_cn2 = np.array_split(cn2, nbsegments)\n",
    "        roots, res = interp_gauss_legendre_pp(nbpoints_per_segment, split_alt, split_cn2)\n",
    "        for k in split_alt:\n",
    "            plt.axhline(k[0], linestyle='--', color = 'grey', linewidth = 0.5)\n",
    "    else : \n",
    "        roots, res = interp_gauss_legendre(nbpoints_per_segment, alt, cn2, norm=True)\n",
    "\n",
    "    plt.semilogx(res, roots, label = 'Legendre Cn2 profile')\n",
    "    print(f'Integrale du profil Legendre : {int(res, roots)}')\n",
    "    print(f'r0 du profil Legendre : {r0(res, roots):.4f} cm')\n",
    "    print(f'theta0 du profil Legendre : {theta0(res, roots):.4f} µrad ')\n",
    "    print('\\n')\n",
    "    plt.xlabel('Cn2')\n",
    "    plt.ylabel('Alt (m)')\n",
    "    plt.autoscale(tight=True)\n",
    "    plt.legend()\n",
    "\n",
    "\n",
    "\n",
    "    plt.subplot(122)\n",
    "    print(f'temps de cohérence du profil brut : {tau0(cn2, wspeed , alt):.4f} sec ')\n",
    "    plt.plot(wspeed, alt, label = 'Wind Speed')\n",
    "    f = interp.interp1d(alt, wspeed)\n",
    "    plt.plot(f(roots), roots, 'ro--', label = 'Interpolated Wind Speed')\n",
    "    print(f'temps de cohérence du profil interpolé : {tau0(res, f(new_z), new_z):.4f} sec ')\n",
    "    print(f'temps de cohérence du profil Legendre : {tau0(res, f(roots), roots):.4f} sec ')\n",
    "    plt.xlabel('Win Speed (m.s^-1')\n",
    "    plt.ylabel('Alt (m)')\n",
    "    plt.autoscale(tight=True)\n",
    "    plt.legend()"
   ]
  },
  {
   "source": [
    "interact(pp, date = data.dates, nbsegments = 10, nbpoints_per_segment = 10)"
   ],
   "cell_type": "code",
   "metadata": {
    "tags": []
   },
   "execution_count": 23,
   "outputs": [
    {
     "output_type": "display_data",
     "data": {
      "text/plain": "interactive(children=(Dropdown(description='date', options=('2020-01-01 23:00:00', '2020-01-02 11:00:00', '202…",
      "application/vnd.jupyter.widget-view+json": {
       "version_major": 2,
       "version_minor": 0,
       "model_id": "9715b58831e5491bbfdb12bb55b621e3"
      }
     },
     "metadata": {}
    },
    {
     "output_type": "execute_result",
     "data": {
      "text/plain": [
       "<function __main__.pp(date, nbsegments, nbpoints_per_segment)>"
      ]
     },
     "metadata": {},
     "execution_count": 23
    }
   ]
  },
  {
   "cell_type": "code",
   "execution_count": 18,
   "metadata": {},
   "outputs": [],
   "source": [
    "r0 = lambda x, t : np.power((0.423*(2*np.pi/1.55e-6)**2*int(x, t)), (-3/5))\n",
    "theta0 = lambda x, t : np.power((2.914*(2*np.pi/1.55e-6)**2 * int(x*np.power(t, (5/3)), t)), (-3/5))*1e6\n",
    "tau0 = lambda Cn2, wspeed, t : np.power((2.914*(2*np.pi/1.55e-6)**2 *\n",
    "                            int(Cn2*np.power(wspeed, (5/3)), t)), (-3/5))\n",
    "\n",
    "alt = data[0].alt.values\n",
    "cn2 = data[0].Cn2.values\n",
    "wspeed = data[0].wspeed.values\n"
   ]
  },
  {
   "cell_type": "code",
   "execution_count": 19,
   "metadata": {},
   "outputs": [
    {
     "output_type": "stream",
     "name": "stdout",
     "text": [
      "Integrale du profil brut : [8.81732981e-16 9.66575526e-16 8.71171993e-16 ... 4.58760652e-20\n 4.30101631e-20 4.20500329e-20]\n"
     ]
    },
    {
     "output_type": "error",
     "ename": "TypeError",
     "evalue": "unsupported format string passed to numpy.ndarray.__format__",
     "traceback": [
      "\u001b[0;31m---------------------------------------------------------------------------\u001b[0m",
      "\u001b[0;31mTypeError\u001b[0m                                 Traceback (most recent call last)",
      "\u001b[0;32m<ipython-input-19-48097975f7ef>\u001b[0m in \u001b[0;36m<module>\u001b[0;34m\u001b[0m\n\u001b[1;32m      3\u001b[0m \u001b[0mplt\u001b[0m\u001b[0;34m.\u001b[0m\u001b[0msubplot\u001b[0m\u001b[0;34m(\u001b[0m\u001b[0;36m121\u001b[0m\u001b[0;34m)\u001b[0m\u001b[0;34m\u001b[0m\u001b[0;34m\u001b[0m\u001b[0m\n\u001b[1;32m      4\u001b[0m \u001b[0mprint\u001b[0m\u001b[0;34m(\u001b[0m\u001b[0;34mf'Integrale du profil brut : {int(cn2, alt)}'\u001b[0m\u001b[0;34m)\u001b[0m\u001b[0;34m\u001b[0m\u001b[0;34m\u001b[0m\u001b[0m\n\u001b[0;32m----> 5\u001b[0;31m \u001b[0mprint\u001b[0m\u001b[0;34m(\u001b[0m\u001b[0;34mf'r0 du profil brut : {r0(cn2, alt):.4f} cm '\u001b[0m\u001b[0;34m)\u001b[0m\u001b[0;34m\u001b[0m\u001b[0;34m\u001b[0m\u001b[0m\n\u001b[0m\u001b[1;32m      6\u001b[0m \u001b[0mprint\u001b[0m\u001b[0;34m(\u001b[0m\u001b[0;34mf'theta0 du profil brut : {theta0(cn2, alt):.4f} µrad '\u001b[0m\u001b[0;34m)\u001b[0m\u001b[0;34m\u001b[0m\u001b[0;34m\u001b[0m\u001b[0m\n\u001b[1;32m      7\u001b[0m \u001b[0mprint\u001b[0m\u001b[0;34m(\u001b[0m\u001b[0;34m'\\n'\u001b[0m\u001b[0;34m)\u001b[0m\u001b[0;34m\u001b[0m\u001b[0;34m\u001b[0m\u001b[0m\n",
      "\u001b[0;31mTypeError\u001b[0m: unsupported format string passed to numpy.ndarray.__format__"
     ]
    }
   ],
   "source": [
    "    plt.figure(figsize=(20,10))\n",
    "\n",
    "    plt.subplot(121)\n",
    "    print(f'Integrale du profil brut : {int(cn2, alt)}')\n",
    "    print(f'r0 du profil brut : {r0(cn2, alt):.4f} cm ')\n",
    "    print(f'theta0 du profil brut : {theta0(cn2, alt):.4f} µrad ')\n",
    "    print('\\n')\n",
    "   \n",
    "    plt.semilogx(cn2, alt, label = 'Raw Cn2 profile')\n",
    "   \n",
    "   \n",
    "    g = interp.interp1d(alt, cn2)\n",
    "    new_z = np.linspace(alt[0], alt[-1], nbpoints_per_segment*nbsegments)\n",
    "    plt.semilogx(g(new_z), new_z, label = 'Interpolated Cn2 profile')\n",
    "    print(f'Integrale du profil interpolé : {int(g(new_z), new_z)}')\n",
    "    print(f'r0 du profil interpolé : {r0(g(new_z), new_z):.4f} cm')\n",
    "    print(f'theta0 du profil interpolé : {theta0(g(new_z), new_z):.4f} µrad ')\n",
    "    print('\\n')\n",
    "    plt.xlabel('Cn2')\n",
    "    plt.ylabel('Alt (m)')\n",
    "    plt.autoscale(tight=True)\n",
    "    plt.legend()\n",
    "   "
   ]
  },
  {
   "cell_type": "code",
   "execution_count": 20,
   "metadata": {},
   "outputs": [
    {
     "output_type": "execute_result",
     "data": {
      "text/plain": [
       "array([  21.26061014,   20.12039482,   21.41487937, ..., 7903.624129  ,\n",
       "       8215.52500021, 8327.56768377])"
      ]
     },
     "metadata": {},
     "execution_count": 20
    }
   ],
   "source": [
    "r0(cn2, alt)"
   ]
  },
  {
   "cell_type": "code",
   "execution_count": null,
   "metadata": {},
   "outputs": [],
   "source": []
  }
 ]
}